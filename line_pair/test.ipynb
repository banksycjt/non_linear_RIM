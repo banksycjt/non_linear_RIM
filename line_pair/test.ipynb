{
 "cells": [
  {
   "cell_type": "code",
   "execution_count": 1,
   "metadata": {},
   "outputs": [],
   "source": [
    "%reset -f\n",
    "import numpy as np\n",
    "import matplotlib.pyplot as plt"
   ]
  },
  {
   "cell_type": "code",
   "execution_count": 2,
   "metadata": {},
   "outputs": [
    {
     "data": {
      "text/plain": [
       "'freq = np.fft.fftfreq(256, 5/1000)\\nfx, fy = np.meshgrid(freq, freq)\\nf_r = np.sqrt(fx**2 + fy**2)'"
      ]
     },
     "execution_count": 2,
     "metadata": {},
     "output_type": "execute_result"
    }
   ],
   "source": [
    "'''freq = np.fft.fftfreq(256, 5/1000)\n",
    "fx, fy = np.meshgrid(freq, freq)\n",
    "f_r = np.sqrt(fx**2 + fy**2)'''"
   ]
  },
  {
   "cell_type": "code",
   "execution_count": 3,
   "metadata": {},
   "outputs": [],
   "source": [
    "sizeImage = 256;\n",
    "X, Y = np.meshgrid(np.arange(-sizeImage/2, sizeImage/2),np.arange(-sizeImage/2, sizeImage/2));\n",
    "R = np.sqrt(X**2 + Y**2);"
   ]
  }
 ],
 "metadata": {
  "kernelspec": {
   "display_name": "base",
   "language": "python",
   "name": "python3"
  },
  "language_info": {
   "codemirror_mode": {
    "name": "ipython",
    "version": 3
   },
   "file_extension": ".py",
   "mimetype": "text/x-python",
   "name": "python",
   "nbconvert_exporter": "python",
   "pygments_lexer": "ipython3",
   "version": "3.12.7"
  }
 },
 "nbformat": 4,
 "nbformat_minor": 2
}
