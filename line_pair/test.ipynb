{
 "cells": [
  {
   "cell_type": "code",
   "execution_count": 8,
   "metadata": {},
   "outputs": [],
   "source": [
    "import numpy as np\n",
    "import matplotlib.pyplot as plt"
   ]
  },
  {
   "cell_type": "code",
   "execution_count": 9,
   "metadata": {},
   "outputs": [],
   "source": [
    "sizePixel = 5 # um\n",
    "sizeImage = 256;\n",
    "MA = 1000\n",
    "df = 1/sizePixel # um^-1\n",
    "X, Y = np.meshgrid(np.arange(-sizeImage/2, sizeImage/2),np.arange(-sizeImage/2, sizeImage/2));\n",
    "R = np.sqrt(X**2 + Y**2);"
   ]
  },
  {
   "cell_type": "code",
   "execution_count": 10,
   "metadata": {},
   "outputs": [],
   "source": [
    "fX = df/sizeImage/2.*X;\n",
    "fY = df/sizeImage/2.*Y;\n",
    "fr = np.sqrt(fX**2 + fY**2);\n",
    "p = MA*fr;\n",
    "pc = 2*1.4/0.5"
   ]
  },
  {
   "cell_type": "code",
   "execution_count": 11,
   "metadata": {},
   "outputs": [],
   "source": [
    "temp1 = p/pc;\n",
    "temp1 = temp1 >= 1;\n",
    "temp1 = np.arccos(temp1);\n",
    "temp2 = 1-p**2/pc**2;\n",
    "temp2 = temp2 < 0;\n",
    "OTFshift = 2/np.pi*(temp1 - (p/pc)*np.sqrt(temp2));"
   ]
  },
  {
   "cell_type": "code",
   "execution_count": 12,
   "metadata": {},
   "outputs": [],
   "source": [
    "freq = np.fft.fftfreq(256, d=5/1000*2)\n",
    "fx, fy = np.meshgrid(freq, freq)\n",
    "f_r = np.sqrt(fx**2 + fy**2)"
   ]
  }
 ],
 "metadata": {
  "kernelspec": {
   "display_name": "base",
   "language": "python",
   "name": "python3"
  },
  "language_info": {
   "codemirror_mode": {
    "name": "ipython",
    "version": 3
   },
   "file_extension": ".py",
   "mimetype": "text/x-python",
   "name": "python",
   "nbconvert_exporter": "python",
   "pygments_lexer": "ipython3",
   "version": "3.12.7"
  }
 },
 "nbformat": 4,
 "nbformat_minor": 2
}
