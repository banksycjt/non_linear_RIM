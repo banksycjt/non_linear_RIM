{
 "cells": [
  {
   "cell_type": "code",
   "execution_count": 1,
   "metadata": {},
   "outputs": [],
   "source": [
    "import numpy as np\n",
    "from PIL import Image\n",
    "import matplotlib.pyplot as plt\n",
    "from numpy.fft import fft2, ifft2, fftshift, ifftshift"
   ]
  },
  {
   "cell_type": "code",
   "execution_count": null,
   "metadata": {},
   "outputs": [],
   "source": [
    "line_pairs_spacing = [60, 90, 120, 150, 180, 210, 240]\n",
    "line_pairs_spacing = np.array(line_pairs_spacing)"
   ]
  },
  {
   "cell_type": "code",
   "execution_count": null,
   "metadata": {},
   "outputs": [],
   "source": [
    "camara_pixel_size = 5 # um\n",
    "camara_pixels = 1024\n",
    "camara_size = camara_pixel_size * camara_pixels # um\n",
    "NA = 1.4 # numerical aperture\n",
    "MA = 100"
   ]
  },
  {
   "cell_type": "markdown",
   "metadata": {},
   "source": [
    "分辨率：分辨率又称“鉴别率”，“解像力”。是衡量显微镜性能的一个重要技术参数。 显微镜的分辨率用公式表示为：d=l/NA 式中d为最小分辨距离；l为光线的波长；NA为物镜的数值孔径。可见物镜的分辨率是由物镜的NA值与照明光源的波长两个因素决定。 NA值越大， 照明光线波长越短， 则d值越小， 分辨率就越高。 要提高分辨率，即减小d值，可采取以下措施: (1) 降低波长l值，使用短波长光源。 (2) 曾大介质n值和提高NA值（NA= n×Sin(u/2)）。 (3) 增大孔径角。 (4) 增加明暗反差。\n",
    "\n",
    "放大率： 放大率就是放大倍数，是指被检验物体经物镜放大再经目镜放大后，人眼所看到的最终图象的大小对原物体大小的比值，是物镜和目镜放大倍数的乘积。放大率也是显微镜的重要参数，但也不能盲目相信放大率越高越好，在选择时应首先考虑物镜的数值孔径。有效放大倍率：显微镜放大倍率的极限即有效放大倍率。分辨率和放大倍率是两个不同的但又互有联系的概念。有关系式： 500NA < 放大率 < 1000NA 当选用的物镜数值孔径不够大，即分辨率不够高时，显微镜不能分清物体的微细结构， 此时即使过度地增大放大倍率，得到的也只能是一个轮廓虽大但细节不清的图像，称为无 效放大倍率。反之如果分辨率已满足要求而放大倍率不足，则显微镜虽已具备分辨的能力， 但因图像太小而仍然不能被人眼清晰视见。所以为了充分发挥显微镜的分辨能力，应使数值孔径与显微镜总放大倍率合理匹配。根据： 总放大率 = 物距/物镜焦距×相距（250mm）/目镜焦距； 增大物距即镜筒长度，可以提高放大率，但是镜筒不能无限拉长，通常国际标准长度为160mm。"
   ]
  }
 ],
 "metadata": {
  "kernelspec": {
   "display_name": "pymc_env",
   "language": "python",
   "name": "python3"
  },
  "language_info": {
   "codemirror_mode": {
    "name": "ipython",
    "version": 3
   },
   "file_extension": ".py",
   "mimetype": "text/x-python",
   "name": "python",
   "nbconvert_exporter": "python",
   "pygments_lexer": "ipython3",
   "version": "3.10.14"
  }
 },
 "nbformat": 4,
 "nbformat_minor": 2
}
