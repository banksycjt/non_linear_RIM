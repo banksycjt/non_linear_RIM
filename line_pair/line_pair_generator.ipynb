{
 "cells": [
  {
   "cell_type": "code",
   "execution_count": null,
   "metadata": {},
   "outputs": [],
   "source": [
    "import numpy as np\n",
    "from PIL import Image\n",
    "import matplotlib.pyplot as plt\n",
    "from numpy.fft import fft2, ifft2, fftshift, ifftshift\n",
    "from scipy.ndimage import gaussian_filter"
   ]
  },
  {
   "cell_type": "code",
   "execution_count": null,
   "metadata": {},
   "outputs": [],
   "source": [
    "camara_pixel_size = 5 # um\n",
    "camara_pixels_number = 256\n",
    "camara_size = camara_pixel_size * camara_pixels_number # um\n",
    "NA = 1.4 # numerical aperture\n",
    "MA = 1000 # magnification\n",
    "physical_pixel_size = camara_pixel_size / MA # um\n",
    "physical_size = camara_size / MA # um\n",
    "wavelength = 0.5 # um\n",
    "diffraction_limit = 0.61 * 0.5 / NA # um"
   ]
  },
  {
   "cell_type": "code",
   "execution_count": null,
   "metadata": {},
   "outputs": [],
   "source": [
    "line_pairs_spacing = [0.06, 0.09, 0.12, 0.15, 0.18, 0.21, 0.24] # um\n",
    "line_pairs_spacing = np.array(line_pairs_spacing)\n",
    "line_pairs_spacing = line_pairs_spacing*1000/camara_pixel_size /  # in pixel size"
   ]
  },
  {
   "cell_type": "code",
   "execution_count": 13,
   "metadata": {},
   "outputs": [],
   "source": [
    "def generate_line_pairs(camara_pixels_number, line_spacing = 20, line_width = 5, line_length = 100):\n",
    "    \n",
    "    # 创建一个256x256的黑色图像\n",
    "    image_array = np.zeros((camara_pixels_number, camara_pixels_number), dtype=np.uint32)\n",
    "\n",
    "    # 计算线的位置\n",
    "    center_x = image_array.shape[1] // 2\n",
    "    center_y = image_array.shape[0] // 2\n",
    "\n",
    "    # 第一条线的起始和结束位置\n",
    "    line1_start_x = center_x - line_spacing // 2 - line_width\n",
    "    line1_end_x = line1_start_x + line_width\n",
    "    line1_start_y = center_y - line_length // 2\n",
    "    line1_end_y = line1_start_y + line_length\n",
    "\n",
    "    # 第二条线的起始和结束位置\n",
    "    line2_start_x = center_x + line_spacing // 2\n",
    "    line2_end_x = line2_start_x + line_width\n",
    "    line2_start_y = center_y - line_length // 2\n",
    "    line2_end_y = line2_start_y + line_length\n",
    "\n",
    "    # 绘制第一条线\n",
    "    image_array[line1_start_y:line1_end_y, line1_start_x:line1_end_x] = 2**32 - 1\n",
    "\n",
    "    # 绘制第二条线\n",
    "    image_array[line2_start_y:line2_end_y, line2_start_x:line2_end_x] = 2**32 - 1\n",
    "    \n",
    "    return image_array"
   ]
  },
  {
   "cell_type": "code",
   "execution_count": 16,
   "metadata": {},
   "outputs": [
    {
     "data": {
      "image/png": "[encoded data removed]",
      "text/plain": [
       "<Figure size 640x480 with 1 Axes>"
      ]
     },
     "metadata": {},
     "output_type": "display_data"
    }
   ],
   "source": [
    "image = generate_line_pairs(camara_pixels_number)\n",
    "\n",
    "# 对图像应用高斯模糊\n",
    "blurred_image = gaussian_filter(image, sigma=4)\n",
    "\n",
    "# 显示模糊后的图像\n",
    "plt.imshow(blurred_image, cmap='gray')\n",
    "plt.title(\"Blurred Image\")\n",
    "plt.axis('off')\n",
    "plt.show()"
   ]
  }
 ],
 "metadata": {
  "kernelspec": {
   "display_name": "pymc_env",
   "language": "python",
   "name": "python3"
  },
  "language_info": {
   "codemirror_mode": {
    "name": "ipython",
    "version": 3
   },
   "file_extension": ".py",
   "mimetype": "text/x-python",
   "name": "python",
   "nbconvert_exporter": "python",
   "pygments_lexer": "ipython3",
   "version": "3.10.14"
  }
 },
 "nbformat": 4,
 "nbformat_minor": 2
}
