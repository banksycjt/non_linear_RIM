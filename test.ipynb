{
 "cells": [
  {
   "cell_type": "code",
   "execution_count": 1,
   "metadata": {},
   "outputs": [],
   "source": [
    "import numpy as np\n",
    "import matplotlib.pyplot as plt\n",
    "import pymc as pm\n",
    "import scipy.signal as signal\n",
    "import arviz as az\n",
    "from scipy.sparse import lil_matrix"
   ]
  },
  {
   "cell_type": "code",
   "execution_count": 3,
   "metadata": {},
   "outputs": [],
   "source": [
    "# 固定图像尺寸\n",
    "IMAGE_SIZE = 32\n",
    "PSF_SIZE = 9\n",
    "\n",
    "# 生成清晰图像\n",
    "np.random.seed(42)\n",
    "true_image = np.zeros((IMAGE_SIZE, IMAGE_SIZE))\n",
    "true_image[10:20, 10:20] = 1.0\n",
    "\n",
    "# 生成高斯 PSF\n",
    "def gaussian_kernel(size, sigma):\n",
    "    \"\"\"生成二维高斯核\"\"\"\n",
    "    kernel = np.fromfunction(\n",
    "        lambda x, y: (1/(2*np.pi*sigma**2)) * np.exp(-((x-(size-1)/2)**2 + (y-(size-1)/2)**2)/(2*sigma**2)),\n",
    "        (size, size)\n",
    "    )\n",
    "    return kernel / np.sum(kernel)  # 归一化\n",
    "\n",
    "psf = gaussian_kernel(PSF_SIZE, 2.0)\n",
    "\n",
    "# 生成模糊图像\n",
    "blurred = signal.convolve2d(true_image, psf, mode='same')\n",
    "noisy_image = np.random.poisson(blurred * 10)"
   ]
  },
  {
   "cell_type": "code",
   "execution_count": 4,
   "metadata": {},
   "outputs": [],
   "source": [
    "def build_conv_matrix(psf, image_size):\n",
    "    \"\"\"将卷积操作转换为稀疏矩阵乘法\"\"\"\n",
    "    pad = PSF_SIZE // 2\n",
    "    padded_size = image_size + 2 * pad\n",
    "    conv_matrix = lil_matrix((image_size**2, image_size**2))\n",
    "    \n",
    "    for i in range(image_size):\n",
    "        for j in range(image_size):\n",
    "            # 每个输出像素对应一个卷积窗口\n",
    "            row_idx = i * image_size + j\n",
    "            for ki in range(PSF_SIZE):\n",
    "                for kj in range(PSF_SIZE):\n",
    "                    img_i = i + ki - pad\n",
    "                    img_j = j + kj - pad\n",
    "                    if 0 <= img_i < image_size and 0 <= img_j < image_size:\n",
    "                        col_idx = img_i * image_size + img_j\n",
    "                        conv_matrix[row_idx, col_idx] = psf[ki, kj]\n",
    "    return conv_matrix.tocsr()\n",
    "\n",
    "# 预计算卷积矩阵\n",
    "conv_matrix = build_conv_matrix(psf, IMAGE_SIZE)"
   ]
  },
  {
   "cell_type": "code",
   "execution_count": 5,
   "metadata": {},
   "outputs": [
    {
     "ename": "NotImplementedError",
     "evalue": "Cannot convert <Compressed Sparse Row sparse matrix of dtype 'float64'\n\twith 71824 stored elements and shape (1024, 1024)> to a tensor variable.",
     "output_type": "error",
     "traceback": [
      "\u001b[1;31m---------------------------------------------------------------------------\u001b[0m",
      "\u001b[1;31mNotImplementedError\u001b[0m                       Traceback (most recent call last)",
      "Cell \u001b[1;32mIn[5], line 6\u001b[0m\n\u001b[0;32m      3\u001b[0m x \u001b[38;5;241m=\u001b[39m pm\u001b[38;5;241m.\u001b[39mUniform(\u001b[38;5;124m\"\u001b[39m\u001b[38;5;124mx\u001b[39m\u001b[38;5;124m\"\u001b[39m, \u001b[38;5;241m0\u001b[39m, \u001b[38;5;241m1\u001b[39m, shape\u001b[38;5;241m=\u001b[39m(IMAGE_SIZE\u001b[38;5;241m*\u001b[39m\u001b[38;5;241m*\u001b[39m\u001b[38;5;241m2\u001b[39m,))\n\u001b[0;32m      5\u001b[0m \u001b[38;5;66;03m# 模糊过程：矩阵乘法模拟卷积\u001b[39;00m\n\u001b[1;32m----> 6\u001b[0m blurred \u001b[38;5;241m=\u001b[39m pm\u001b[38;5;241m.\u001b[39mDeterministic(\u001b[38;5;124m\"\u001b[39m\u001b[38;5;124mblurred\u001b[39m\u001b[38;5;124m\"\u001b[39m, \u001b[43mconv_matrix\u001b[49m\u001b[43m \u001b[49m\u001b[38;5;241;43m@\u001b[39;49m\u001b[43m \u001b[49m\u001b[43mx\u001b[49m)\n\u001b[0;32m      8\u001b[0m \u001b[38;5;66;03m# 似然函数：泊松噪声\u001b[39;00m\n\u001b[0;32m      9\u001b[0m y_obs \u001b[38;5;241m=\u001b[39m pm\u001b[38;5;241m.\u001b[39mPoisson(\u001b[38;5;124m\"\u001b[39m\u001b[38;5;124my_obs\u001b[39m\u001b[38;5;124m\"\u001b[39m, mu\u001b[38;5;241m=\u001b[39mblurred \u001b[38;5;241m*\u001b[39m \u001b[38;5;241m10\u001b[39m, observed\u001b[38;5;241m=\u001b[39mnoisy_image\u001b[38;5;241m.\u001b[39mflatten())\n",
      "File \u001b[1;32md:\\miniconda3\\envs\\pymc_env\\lib\\site-packages\\pytensor\\tensor\\variable.py:660\u001b[0m, in \u001b[0;36m_tensor_py_operators.__rmatmul__\u001b[1;34m(right, left)\u001b[0m\n\u001b[0;32m    659\u001b[0m \u001b[38;5;28;01mdef\u001b[39;00m\u001b[38;5;250m \u001b[39m\u001b[38;5;21m__rmatmul__\u001b[39m(right, left):\n\u001b[1;32m--> 660\u001b[0m     \u001b[38;5;28;01mreturn\u001b[39;00m \u001b[43mpt\u001b[49m\u001b[38;5;241;43m.\u001b[39;49m\u001b[43mmath\u001b[49m\u001b[38;5;241;43m.\u001b[39;49m\u001b[43mmatmul\u001b[49m\u001b[43m(\u001b[49m\u001b[43mleft\u001b[49m\u001b[43m,\u001b[49m\u001b[43m \u001b[49m\u001b[43mright\u001b[49m\u001b[43m)\u001b[49m\n",
      "File \u001b[1;32md:\\miniconda3\\envs\\pymc_env\\lib\\site-packages\\pytensor\\tensor\\math.py:3016\u001b[0m, in \u001b[0;36mmatmul\u001b[1;34m(x1, x2, dtype)\u001b[0m\n\u001b[0;32m   2974\u001b[0m \u001b[38;5;28;01mdef\u001b[39;00m\u001b[38;5;250m \u001b[39m\u001b[38;5;21mmatmul\u001b[39m(x1: \u001b[38;5;124m\"\u001b[39m\u001b[38;5;124mArrayLike\u001b[39m\u001b[38;5;124m\"\u001b[39m, x2: \u001b[38;5;124m\"\u001b[39m\u001b[38;5;124mArrayLike\u001b[39m\u001b[38;5;124m\"\u001b[39m, dtype: Optional[\u001b[38;5;124m\"\u001b[39m\u001b[38;5;124mDTypeLike\u001b[39m\u001b[38;5;124m\"\u001b[39m] \u001b[38;5;241m=\u001b[39m \u001b[38;5;28;01mNone\u001b[39;00m):\n\u001b[0;32m   2975\u001b[0m \u001b[38;5;250m    \u001b[39m\u001b[38;5;124;03m\"\"\"Compute the matrix product of two tensor variables.\u001b[39;00m\n\u001b[0;32m   2976\u001b[0m \n\u001b[0;32m   2977\u001b[0m \u001b[38;5;124;03m    Parameters\u001b[39;00m\n\u001b[1;32m   (...)\u001b[0m\n\u001b[0;32m   3014\u001b[0m \u001b[38;5;124;03m        respecting the signature ``(n, k), (k, m) -> (n, m)``:\u001b[39;00m\n\u001b[0;32m   3015\u001b[0m \u001b[38;5;124;03m    \"\"\"\u001b[39;00m\n\u001b[1;32m-> 3016\u001b[0m     x1 \u001b[38;5;241m=\u001b[39m \u001b[43mas_tensor_variable\u001b[49m\u001b[43m(\u001b[49m\u001b[43mx1\u001b[49m\u001b[43m)\u001b[49m\n\u001b[0;32m   3017\u001b[0m     x2 \u001b[38;5;241m=\u001b[39m as_tensor_variable(x2)\n\u001b[0;32m   3018\u001b[0m     \u001b[38;5;28;01mif\u001b[39;00m x1\u001b[38;5;241m.\u001b[39mtype\u001b[38;5;241m.\u001b[39mndim \u001b[38;5;241m==\u001b[39m \u001b[38;5;241m0\u001b[39m \u001b[38;5;129;01mor\u001b[39;00m x2\u001b[38;5;241m.\u001b[39mtype\u001b[38;5;241m.\u001b[39mndim \u001b[38;5;241m==\u001b[39m \u001b[38;5;241m0\u001b[39m:\n",
      "File \u001b[1;32md:\\miniconda3\\envs\\pymc_env\\lib\\site-packages\\pytensor\\tensor\\__init__.py:50\u001b[0m, in \u001b[0;36mas_tensor_variable\u001b[1;34m(x, name, ndim, **kwargs)\u001b[0m\n\u001b[0;32m     18\u001b[0m \u001b[38;5;28;01mdef\u001b[39;00m\u001b[38;5;250m \u001b[39m\u001b[38;5;21mas_tensor_variable\u001b[39m(\n\u001b[0;32m     19\u001b[0m     x: TensorLike, name: \u001b[38;5;28mstr\u001b[39m \u001b[38;5;241m|\u001b[39m \u001b[38;5;28;01mNone\u001b[39;00m \u001b[38;5;241m=\u001b[39m \u001b[38;5;28;01mNone\u001b[39;00m, ndim: \u001b[38;5;28mint\u001b[39m \u001b[38;5;241m|\u001b[39m \u001b[38;5;28;01mNone\u001b[39;00m \u001b[38;5;241m=\u001b[39m \u001b[38;5;28;01mNone\u001b[39;00m, \u001b[38;5;241m*\u001b[39m\u001b[38;5;241m*\u001b[39mkwargs\n\u001b[0;32m     20\u001b[0m ) \u001b[38;5;241m-\u001b[39m\u001b[38;5;241m>\u001b[39m \u001b[38;5;124m\"\u001b[39m\u001b[38;5;124mTensorVariable\u001b[39m\u001b[38;5;124m\"\u001b[39m:\n\u001b[0;32m     21\u001b[0m \u001b[38;5;250m    \u001b[39m\u001b[38;5;124;03m\"\"\"Convert `x` into an equivalent `TensorVariable`.\u001b[39;00m\n\u001b[0;32m     22\u001b[0m \n\u001b[0;32m     23\u001b[0m \u001b[38;5;124;03m    This function can be used to turn ndarrays, numbers, `ScalarType` instances,\u001b[39;00m\n\u001b[1;32m   (...)\u001b[0m\n\u001b[0;32m     48\u001b[0m \n\u001b[0;32m     49\u001b[0m \u001b[38;5;124;03m    \"\"\"\u001b[39;00m\n\u001b[1;32m---> 50\u001b[0m     \u001b[38;5;28;01mreturn\u001b[39;00m _as_tensor_variable(x, name, ndim, \u001b[38;5;241m*\u001b[39m\u001b[38;5;241m*\u001b[39mkwargs)\n",
      "File \u001b[1;32md:\\miniconda3\\envs\\pymc_env\\lib\\functools.py:889\u001b[0m, in \u001b[0;36msingledispatch.<locals>.wrapper\u001b[1;34m(*args, **kw)\u001b[0m\n\u001b[0;32m    885\u001b[0m \u001b[38;5;28;01mif\u001b[39;00m \u001b[38;5;129;01mnot\u001b[39;00m args:\n\u001b[0;32m    886\u001b[0m     \u001b[38;5;28;01mraise\u001b[39;00m \u001b[38;5;167;01mTypeError\u001b[39;00m(\u001b[38;5;124mf\u001b[39m\u001b[38;5;124m'\u001b[39m\u001b[38;5;132;01m{\u001b[39;00mfuncname\u001b[38;5;132;01m}\u001b[39;00m\u001b[38;5;124m requires at least \u001b[39m\u001b[38;5;124m'\u001b[39m\n\u001b[0;32m    887\u001b[0m                     \u001b[38;5;124m'\u001b[39m\u001b[38;5;124m1 positional argument\u001b[39m\u001b[38;5;124m'\u001b[39m)\n\u001b[1;32m--> 889\u001b[0m \u001b[38;5;28;01mreturn\u001b[39;00m dispatch(args[\u001b[38;5;241m0\u001b[39m]\u001b[38;5;241m.\u001b[39m\u001b[38;5;18m__class__\u001b[39m)(\u001b[38;5;241m*\u001b[39margs, \u001b[38;5;241m*\u001b[39m\u001b[38;5;241m*\u001b[39mkw)\n",
      "File \u001b[1;32md:\\miniconda3\\envs\\pymc_env\\lib\\site-packages\\pytensor\\tensor\\__init__.py:57\u001b[0m, in \u001b[0;36m_as_tensor_variable\u001b[1;34m(x, name, ndim, **kwargs)\u001b[0m\n\u001b[0;32m     53\u001b[0m \u001b[38;5;129m@singledispatch\u001b[39m\n\u001b[0;32m     54\u001b[0m \u001b[38;5;28;01mdef\u001b[39;00m\u001b[38;5;250m \u001b[39m\u001b[38;5;21m_as_tensor_variable\u001b[39m(\n\u001b[0;32m     55\u001b[0m     x: TensorLike, name: \u001b[38;5;28mstr\u001b[39m \u001b[38;5;241m|\u001b[39m \u001b[38;5;28;01mNone\u001b[39;00m, ndim: \u001b[38;5;28mint\u001b[39m \u001b[38;5;241m|\u001b[39m \u001b[38;5;28;01mNone\u001b[39;00m, \u001b[38;5;241m*\u001b[39m\u001b[38;5;241m*\u001b[39mkwargs\n\u001b[0;32m     56\u001b[0m ) \u001b[38;5;241m-\u001b[39m\u001b[38;5;241m>\u001b[39m \u001b[38;5;124m\"\u001b[39m\u001b[38;5;124mTensorVariable\u001b[39m\u001b[38;5;124m\"\u001b[39m:\n\u001b[1;32m---> 57\u001b[0m     \u001b[38;5;28;01mraise\u001b[39;00m \u001b[38;5;167;01mNotImplementedError\u001b[39;00m(\u001b[38;5;124mf\u001b[39m\u001b[38;5;124m\"\u001b[39m\u001b[38;5;124mCannot convert \u001b[39m\u001b[38;5;132;01m{\u001b[39;00mx\u001b[38;5;132;01m!r}\u001b[39;00m\u001b[38;5;124m to a tensor variable.\u001b[39m\u001b[38;5;124m\"\u001b[39m)\n",
      "\u001b[1;31mNotImplementedError\u001b[0m: Cannot convert <Compressed Sparse Row sparse matrix of dtype 'float64'\n\twith 71824 stored elements and shape (1024, 1024)> to a tensor variable."
     ]
    }
   ],
   "source": [
    "with pm.Model() as model:\n",
    "    # 先验分布：每个像素值在 [0, 1] 之间\n",
    "    x = pm.Uniform(\"x\", 0, 1, shape=(IMAGE_SIZE**2,))\n",
    "    \n",
    "    # 模糊过程：矩阵乘法模拟卷积\n",
    "    blurred = pm.Deterministic(\"blurred\", conv_matrix @ x)\n",
    "    \n",
    "    # 似然函数：泊松噪声\n",
    "    y_obs = pm.Poisson(\"y_obs\", mu=blurred * 10, observed=noisy_image.flatten())"
   ]
  },
  {
   "cell_type": "code",
   "execution_count": null,
   "metadata": {},
   "outputs": [],
   "source": [
    "import pymc.math."
   ]
  }
 ],
 "metadata": {
  "kernelspec": {
   "display_name": "pymc_env",
   "language": "python",
   "name": "python3"
  },
  "language_info": {
   "codemirror_mode": {
    "name": "ipython",
    "version": 3
   },
   "file_extension": ".py",
   "mimetype": "text/x-python",
   "name": "python",
   "nbconvert_exporter": "python",
   "pygments_lexer": "ipython3",
   "version": "3.10.14"
  }
 },
 "nbformat": 4,
 "nbformat_minor": 2
}
